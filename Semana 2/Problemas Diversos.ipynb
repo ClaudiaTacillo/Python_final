{
 "cells": [
  {
   "cell_type": "markdown",
   "metadata": {},
   "source": [
    "# PROBLEMAS DIVERSOS"
   ]
  },
  {
   "cell_type": "markdown",
   "metadata": {},
   "source": [
    "<h3>1.</h3>\n",
    "Realizar una función que permita la carga de n alumnos. Por cada alumno se deberá preguntar el nombre completo y permitir el ingreso de 3 notas. Las notas deben estar comprendidas entre 0 y 10. Devolver el listado de alumnos."
   ]
  },
  {
   "cell_type": "code",
   "execution_count": 2,
   "metadata": {},
   "outputs": [],
   "source": [
    "def ingresar_nota():\n",
    "\n",
    "    try:\n",
    "        nota = float(input(\"Introduce la nota (0 - 10): \"))\n",
    "        \n",
    "        if nota >=0 and nota <= 10:\n",
    "            return nota\n",
    "        else:\n",
    "            print(\"Nota fuera del rango\")\n",
    "            ingresar_nota()\n",
    "    except:\n",
    "        print(\"Ha ocurrido un error, introduzca correctamente la nota\")\n",
    "        ingresar_nota()\n",
    "\n"
   ]
  },
  {
   "cell_type": "code",
   "execution_count": 15,
   "metadata": {},
   "outputs": [],
   "source": [
    "def listar_alumnos(cantidad_alumnos):\n",
    "    lista_alumnos = []\n",
    "    for i in range(cantidad_alumnos):\n",
    "        alumno = {}\n",
    "        alumno[\"Nombre\"] = input(f\"'Ingrese el nombre del alumno {i+1}: \")\n",
    "    \n",
    "        alumno[\"Nota_1\"] = ingresar_nota()\n",
    "        alumno[\"Nota_2\"] = ingresar_nota()\n",
    "        alumno[\"Nota_3\"] = ingresar_nota()\n",
    "    \n",
    "        lista_alumnos.append(alumno)\n",
    "    \n",
    "    return lista_alumnos"
   ]
  },
  {
   "cell_type": "code",
   "execution_count": 16,
   "metadata": {},
   "outputs": [
    {
     "name": "stdin",
     "output_type": "stream",
     "text": [
      "Ingrese el número de alumnos:  3\n",
      "'Ingrese el nombre del alumno 1:  A\n",
      "Introduce la nota (0 - 10):  3\n",
      "Introduce la nota (0 - 10):  2\n",
      "Introduce la nota (0 - 10):  1\n",
      "'Ingrese el nombre del alumno 2:  B\n",
      "Introduce la nota (0 - 10):  6\n",
      "Introduce la nota (0 - 10):  7\n",
      "Introduce la nota (0 - 10):  8\n",
      "'Ingrese el nombre del alumno 3:  J\n",
      "Introduce la nota (0 - 10):  9\n",
      "Introduce la nota (0 - 10):  9\n",
      "Introduce la nota (0 - 10):  9\n"
     ]
    },
    {
     "data": {
      "text/plain": [
       "[{'Nombre': 'A', 'Nota_1': 3.0, 'Nota_2': 2.0, 'Nota_3': 1.0},\n",
       " {'Nombre': 'B', 'Nota_1': 6.0, 'Nota_2': 7.0, 'Nota_3': 8.0},\n",
       " {'Nombre': 'J', 'Nota_1': 9.0, 'Nota_2': 9.0, 'Nota_3': 9.0}]"
      ]
     },
     "execution_count": 16,
     "metadata": {},
     "output_type": "execute_result"
    }
   ],
   "source": [
    "n_alumnos = int(input(\"Ingrese el número de alumnos: \"))\n",
    "listado = listar_alumnos(n_alumnos)\n",
    "listado"
   ]
  },
  {
   "cell_type": "markdown",
   "metadata": {},
   "source": [
    "### 2.\n",
    "Definir una función que dado un listado de alumnos evalúe cuántos aprobaron y cuántos desaprobaron, teniendo en cuenta que se aprueba con 4. La nota será el promedio de las 3 notas para cada alumno."
   ]
  },
  {
   "cell_type": "code",
   "execution_count": 23,
   "metadata": {},
   "outputs": [],
   "source": [
    "def Average (listado, n):\n",
    "    Prom_alumno = []\n",
    "    for i in range(n):\n",
    "        n1 = listado[i]['Nota_1']\n",
    "        n2 = listado[i]['Nota_2']\n",
    "        n3 = listado[i]['Nota_3']\n",
    "        Prom = (n1+n2+n3)/3\n",
    "        Prom_alumno.append(Prom)\n",
    "    return Prom_alumno\n",
    "\n",
    "def promedio_notas (listado, n):\n",
    "    Prom_alumno = Average(listado, n)\n",
    "    Prom_tot = sum(Prom_alumno)/n\n",
    "    return Prom_tot"
   ]
  },
  {
   "cell_type": "code",
   "execution_count": 24,
   "metadata": {},
   "outputs": [
    {
     "name": "stdout",
     "output_type": "stream",
     "text": [
      "La cantidad de aprobados es: 2\n"
     ]
    }
   ],
   "source": [
    "aprobados = aprobaron(listado, n_alumnos)\n",
    "print(f\"La cantidad de aprobados es: {aprobados}\")"
   ]
  },
  {
   "cell_type": "markdown",
   "metadata": {},
   "source": [
    "### 3.\n",
    "Informar el promedio de nota del curso total."
   ]
  },
  {
   "cell_type": "code",
   "execution_count": 25,
   "metadata": {},
   "outputs": [],
   "source": [
    "def promedio_notas (listado, n):\n",
    "    Prom_alumno = Average(listado, n)\n",
    "    Prom_tot = sum(Prom_alumno)/n\n",
    "    return Prom_tot"
   ]
  },
  {
   "cell_type": "code",
   "execution_count": 26,
   "metadata": {},
   "outputs": [
    {
     "name": "stdout",
     "output_type": "stream",
     "text": [
      "El promedio del curso es: 6.0\n"
     ]
    }
   ],
   "source": [
    "promedio = promedio_notas(listado, n_alumnos)\n",
    "print(f\"El promedio del curso es: {promedio}\")"
   ]
  },
  {
   "cell_type": "markdown",
   "metadata": {},
   "source": [
    "### 4.\n",
    "Realizar una función que indique quién tuvo el promedio más alto y quién tuvo la nota promedio más baja."
   ]
  },
  {
   "cell_type": "code",
   "execution_count": 27,
   "metadata": {},
   "outputs": [],
   "source": [
    "def promedio_max_min(listado, n):\n",
    "    Prom_alumno = Average(listado, n)\n",
    "    maximo=max(Prom_alumno)\n",
    "    minimo=min(Prom_alumno)\n",
    "    a=Prom_alumno.index(maximo)\n",
    "    b=Prom_alumno.index(minimo)\n",
    "\n",
    "    print(f\"El promedio más alto fue de: {listado[a]['Nombre']}\")\n",
    "    print(f\"El promedio más bajo fue de: {listado[b]['Nombre']}\")"
   ]
  },
  {
   "cell_type": "code",
   "execution_count": 28,
   "metadata": {},
   "outputs": [
    {
     "name": "stdout",
     "output_type": "stream",
     "text": [
      "El promedio más alto fue de: J\n",
      "El promedio más bajo fue de: A\n"
     ]
    }
   ],
   "source": [
    "promedio_max_min(listado, n_alumnos)"
   ]
  },
  {
   "cell_type": "code",
   "execution_count": null,
   "metadata": {},
   "outputs": [],
   "source": []
  },
  {
   "cell_type": "markdown",
   "metadata": {},
   "source": [
    "### 5.\n",
    "Realizar una función que permita buscar un alumno por nombre, siendo el nombre completo o parcial, y devuelva una lista con los n alumnos que concuerden con ese nombre junto con todos sus datos, incluido el promedio de sus notas."
   ]
  },
  {
   "cell_type": "code",
   "execution_count": 29,
   "metadata": {},
   "outputs": [],
   "source": [
    "def incluir_prom (listado, n):\n",
    "    promedio = Average(listado, n)\n",
    "    \n",
    "    for i in range(len(listado)):\n",
    "        listado[i]['Promedio'] = promedio[i]\n",
    "    return listado\n",
    "\n",
    "def buscar(texto, n):\n",
    "    try:\n",
    "        for i in range(n):\n",
    "            if texto in listado[i]['Nombre']:\n",
    "                return listado[i]\n",
    "    except:\n",
    "        return \"No se ha encontrado ese nombre.\""
   ]
  },
  {
   "cell_type": "code",
   "execution_count": 30,
   "metadata": {},
   "outputs": [
    {
     "name": "stdin",
     "output_type": "stream",
     "text": [
      "Ingrese el nombre a buscar:  J\n"
     ]
    },
    {
     "name": "stdout",
     "output_type": "stream",
     "text": [
      "{'Nombre': 'J', 'Nota_1': 9.0, 'Nota_2': 9.0, 'Nota_3': 9.0, 'Promedio': 9.0}\n"
     ]
    }
   ],
   "source": [
    "new_listado = incluir_prom(listado, n_alumnos)\n",
    "name = input(\"Ingrese el nombre a buscar: \")\n",
    "print(buscar(name, n_alumnos))"
   ]
  },
  {
   "cell_type": "code",
   "execution_count": null,
   "metadata": {},
   "outputs": [],
   "source": []
  }
 ],
 "metadata": {
  "kernelspec": {
   "display_name": "Python 3",
   "language": "python",
   "name": "python3"
  },
  "language_info": {
   "codemirror_mode": {
    "name": "ipython",
    "version": 3
   },
   "file_extension": ".py",
   "mimetype": "text/x-python",
   "name": "python",
   "nbconvert_exporter": "python",
   "pygments_lexer": "ipython3",
   "version": "3.8.5"
  }
 },
 "nbformat": 4,
 "nbformat_minor": 4
}
